{
 "cells": [
  {
   "cell_type": "code",
   "execution_count": 1,
   "metadata": {},
   "outputs": [],
   "source": [
    "import nltk\n",
    "import pandas as pd"
   ]
  },
  {
   "cell_type": "code",
   "execution_count": 2,
   "metadata": {},
   "outputs": [],
   "source": [
    "from bs4 import BeautifulSoup as bs\n",
    "from urllib.request import urlopen"
   ]
  },
  {
   "cell_type": "code",
   "execution_count": 3,
   "metadata": {},
   "outputs": [],
   "source": [
    "url = \"https://en.wikipedia.org/wiki/20th_century\"\n",
    "\n",
    "def scrape(url):\n",
    "    article = ''\n",
    "    parse = urlopen(url)\n",
    "    soup = bs(parse, 'html.parser')\n",
    "    find_p = soup.find_all('p')\n",
    "    for paragraph in find_p:\n",
    "        article += paragraph.text\n",
    "    return article\n"
   ]
  },
  {
   "cell_type": "code",
   "execution_count": 4,
   "metadata": {},
   "outputs": [],
   "source": [
    "# print(scrape(url))\n",
    "wiki = scrape(url)"
   ]
  },
  {
   "cell_type": "code",
   "execution_count": 86,
   "metadata": {},
   "outputs": [],
   "source": [
    "from nltk.corpus import stopwords\n",
    "from nltk.tokenize import word_tokenize, sent_tokenize\n",
    "from nltk.stem import WordNetLemmatizer, PorterStemmer\n",
    "stem = WordNetLemmatizer()"
   ]
  },
  {
   "cell_type": "code",
   "execution_count": 14,
   "metadata": {},
   "outputs": [],
   "source": [
    "token = word_tokenize(wiki)\n",
    "def create_dictionary(token):\n",
    "    freq = {}\n",
    "    for word in token:\n",
    "        if word not in stopwords.words('english'):\n",
    "            stemmer = stem.lemmatize(word)\n",
    "            if stemmer in freq:\n",
    "                freq[stemmer] +=1\n",
    "            else:\n",
    "                freq[stemmer] = 1\n",
    "    return freq\n",
    "                \n",
    "        \n",
    "        \n",
    "        \n",
    "        \n",
    "# clean = [word_tokenize(word) for word in wiki if word not in stopwords.words('english')]"
   ]
  },
  {
   "cell_type": "code",
   "execution_count": 27,
   "metadata": {},
   "outputs": [],
   "source": [
    "word_freq = create_dictionary(token)\n"
   ]
  },
  {
   "cell_type": "code",
   "execution_count": 32,
   "metadata": {},
   "outputs": [],
   "source": [
    "sentences = sent_tokenize(wiki)"
   ]
  },
  {
   "cell_type": "code",
   "execution_count": 69,
   "metadata": {},
   "outputs": [],
   "source": [
    "def sentence_score(sentence):\n",
    "    sent_dictionary = {}\n",
    "    for sentence in sentences:\n",
    "        \n",
    "        sent_without_stopwords = 0\n",
    "        for word_weight in word_freq:\n",
    "            if word_weight in sentence.lower():\n",
    "                sent_without_stopwords +=1\n",
    "                if sentence[:7] in sent_dictionary:\n",
    "#                     print(sentence[:67])\n",
    "                    sent_dictionary[sentence[:7]] +=1\n",
    "                else:\n",
    "                    sent_dictionary[sentence[:7]] = 1\n",
    "        sent_dictionary[sentence[:7]] = sent_dictionary[sentence[:7]] / sent_without_stopwords\n",
    "\n",
    "    return sent_dictionary\n",
    "\n",
    "            \n",
    "            \n",
    "    "
   ]
  },
  {
   "cell_type": "code",
   "execution_count": 83,
   "metadata": {},
   "outputs": [],
   "source": [
    "sent_dict = sentence_score(sentence)\n",
    "# sent_dict"
   ]
  },
  {
   "cell_type": "code",
   "execution_count": 80,
   "metadata": {},
   "outputs": [],
   "source": [
    "def calculate_average_score(sent_dict):\n",
    "   \n",
    "    sum_values = 0\n",
    "    for entry in sent_dict:\n",
    "        sum_values += sent_dict[entry]\n",
    "\n",
    "    # Getting sentence average value from source text\n",
    "    average_score = (sum_values / len(sent_dict))\n",
    "\n",
    "    return average_score"
   ]
  },
  {
   "cell_type": "code",
   "execution_count": 81,
   "metadata": {},
   "outputs": [
    {
     "data": {
      "text/plain": [
       "1.0052355384102711"
      ]
     },
     "execution_count": 81,
     "metadata": {},
     "output_type": "execute_result"
    }
   ],
   "source": [
    "calculate_average_score(sent_dict)"
   ]
  },
  {
   "cell_type": "code",
   "execution_count": null,
   "metadata": {},
   "outputs": [],
   "source": []
  },
  {
   "cell_type": "code",
   "execution_count": null,
   "metadata": {},
   "outputs": [],
   "source": [
    "article_content = wiki\n",
    "\n",
    "#looping through the paragraphs and adding them to the variable\n",
    "\n",
    "\n",
    "\n",
    "def _create_dictionary_table(text_string) -> dict:\n",
    "   \n",
    "    #removing stop words\n",
    "    stop_words = set(stopwords.words(\"english\"))\n",
    "    \n",
    "    words = word_tokenize(text_string)\n",
    "    \n",
    "    #reducing words to their root form\n",
    "    stem = PorterStemmer()\n",
    "    \n",
    "    #creating dictionary for the word frequency table\n",
    "    frequency_table = dict()\n",
    "    for wd in words:\n",
    "        wd = stem.stem(wd)\n",
    "        if wd in stop_words:\n",
    "            continue\n",
    "        if wd in frequency_table:\n",
    "            frequency_table[wd] += 1\n",
    "        else:\n",
    "            frequency_table[wd] = 1\n",
    "\n",
    "    return frequency_table\n",
    "\n",
    "_create_dictionary_table(wiki)"
   ]
  },
  {
   "cell_type": "code",
   "execution_count": null,
   "metadata": {},
   "outputs": [],
   "source": [
    "frequency_table = _create_dictionary_table(wiki)\n",
    "def _calculate_sentence_scores(sentences, frequency_table) -> dict:   \n",
    "\n",
    "    #algorithm for scoring a sentence by its words\n",
    "    sentence_weight = dict()\n",
    "\n",
    "    for sentence in sentences:\n",
    "        sentence_wordcount = (len(word_tokenize(sentence)))\n",
    "        sentence_wordcount_without_stop_words = 0\n",
    "        for word_weight in frequency_table:\n",
    "            if word_weight in sentence.lower():\n",
    "                sentence_wordcount_without_stop_words += 1\n",
    "                if sentence[:7] in sentence_weight:\n",
    "                    sentence_weight[sentence[:7]] += frequency_table[word_weight]\n",
    "                else:\n",
    "                    sentence_weight[sentence[:7]] = frequency_table[word_weight]\n",
    "\n",
    "        sentence_weight[sentence[:7]] = sentence_weight[sentence[:7]] / sentence_wordcount_without_stop_words\n",
    "\n",
    "       \n",
    "\n",
    "    return sentence_weight\n",
    "_calculate_sentence_scores(sentences, frequency_table)"
   ]
  },
  {
   "cell_type": "code",
   "execution_count": 95,
   "metadata": {},
   "outputs": [
    {
     "data": {
      "text/plain": [
       "21.565573679628265"
      ]
     },
     "execution_count": 95,
     "metadata": {},
     "output_type": "execute_result"
    }
   ],
   "source": [
    "sentence_weight = _calculate_sentence_scores(sentences, frequency_table)\n",
    "def _calculate_average_score(sentence_weight) -> int:\n",
    "   \n",
    "    #calculating the average score for the sentences\n",
    "    sum_values = 0\n",
    "    for entry in sentence_weight:\n",
    "        sum_values += sentence_weight[entry]\n",
    "\n",
    "    #getting sentence average value from source text\n",
    "    average_score = (sum_values / len(sentence_weight))\n",
    "\n",
    "    return average_score\n",
    "_calculate_average_score(sentence_weight)"
   ]
  },
  {
   "cell_type": "code",
   "execution_count": 97,
   "metadata": {},
   "outputs": [
    {
     "data": {
      "text/plain": [
       "\" It is distinct from the century known as the 1900s which began on January 1, 1900 and ended on December 31, 1999. The century saw a major shift in the way that many people lived, with changes in politics, ideology, economics, society, culture, science, technology, and medicine. Terms like ideology, world war, genocide, and nuclear war entered common usage. Humans explored space for the first time, taking their first footsteps on the Moon. Rapid technological advancements, however, also allowed warfare to reach unprecedented levels of destruction. World War II alone killed over 60 million people, while nuclear weapons gave humankind the means to annihilate itself in a short time. However, these same wars resulted in the destruction of the imperial system. For the first time in human history, empires and their wars of expansion and colonization ceased to be a factor in international affairs, resulting in a far more globalized and cooperative world. The last time major powers clashed openly was in 1945, and since then, violence has seen an unprecedented decline. Technological advancements during World War I changed the way war was fought, as new inventions such as tanks, chemical weapons, and aircraft modified tactics and strategy. The victorious Bolsheviks then established the Soviet Union, the world's first communist state. At the beginning of the period, the British Empire was the world's most powerful nation,[10] having acted as the world's policeman for the past century. Meanwhile, Japan had rapidly transformed itself into a technologically advanced industrial power and, along with Germany and Italy, formed the Axis powers. Japan's military expansionism in East Asia and the Pacific Ocean brought it into conflict with the United States, culminating in a surprise attack which drew the US into World War II. In total, World War II left some 60 million people dead. With the Axis defeated and Britain and France rebuilding, the United States and the Soviet Union were left standing as the world's only superpowers. In the latter half of the century, most of the European-colonized world in Africa and Asia gained independence in a process of decolonization. Meanwhile, globalization opened the door for several nations to exert a strong influence over many world affairs. Following World War II, the United Nations, successor to the League of Nations, was established as an international forum in which the world's nations could discuss issues diplomatically. It enacted resolutions on such topics as the conduct of warfare, environmental protection, international sovereignty, and human rights. Europe slowly united, economically and, in some ways, politically, to form the European Union, which consisted of 15 European countries by the end of the 20th century. In the last third of the century, concern about humankind's impact on the Earth's environment made environmentalism popular. In many countries, especially in Europe, the movement was channeled into politics through Green parties. At the beginning of the century, strong discrimination based on race and sex was significant in general society. During the century, the social taboo of sexism fell. By the end of the 20th century, women had the same legal rights as men in many parts of the world, and racism had come to be seen as abhorrent. Communications and information technology, transportation technology, and medical advances had radically altered daily lives. Europe appeared to be at a sustainable peace for the first time in recorded history. The people of the Indian subcontinent, a sixth of the world population at the end of the 20th century, had attained an indigenous independence for the first time in centuries. China, an ancient nation comprising a fifth of the world population, was finally open to the world, creating a new state after the near-complete destruction of the old cultural order. With the end of colonialism and the Cold War, nearly a billion people in Africa were left in new nation states after centuries of foreign domination. Since the US was in a dominant position, a major part of the process was Americanization. The influence of China and India was also rising, as the world's largest populations were rapidly integrating with the world economy. Terrorism, dictatorship, and the spread of nuclear weapons were pressing global issues. Disease threatened to destabilize many regions of the world. Millions were infected with HIV, the virus which causes AIDS. [13]  This prompted many nations to negotiate and sign the Kyoto treaty, which set mandatory limits on carbon dioxide emissions. This includes deaths caused by wars, genocide, politicide and mass murders. [18]\\nThe invention of music recording technologies such as the phonograph record, and dissemination technologies such as radio broadcasting, massively expanded the audience for music. Prior to the 20th century, music was generally only experienced in live performances. While the first films were in black and white, technicolor was developed in the 1920s to allow for color films. Sound films were developed, with the first full-length feature film, The Jazz Singer, released in 1927. In the first part of the 20th century, measure theory, functional analysis, and topology were established, and significant developments were made in fields such as abstract algebra and probability. Later in the 20th century, the development of computers led to the establishment of a theory of computation. Organized research and practice of science led to advancement in the fields of communication, engineering, travel, medicine, and war.\""
      ]
     },
     "execution_count": 97,
     "metadata": {},
     "output_type": "execute_result"
    }
   ],
   "source": [
    "threshold = _calculate_average_score(sentence_weight)\n",
    "def _get_article_summary(sentences, sentence_weight, threshold):\n",
    "    sentence_counter = 0\n",
    "    article_summary = ''\n",
    "\n",
    "    for sentence in sentences:\n",
    "        if sentence[:7] in sentence_weight and sentence_weight[sentence[:7]] >= (threshold):\n",
    "            article_summary += \" \" + sentence\n",
    "            sentence_counter += 1\n",
    "\n",
    "    return article_summary\n",
    "_get_article_summary(sentences, sentence_weight, threshold)"
   ]
  },
  {
   "cell_type": "code",
   "execution_count": 99,
   "metadata": {},
   "outputs": [
    {
     "data": {
      "text/plain": [
       "' During the century, the social taboo of sexism fell.'"
      ]
     },
     "execution_count": 99,
     "metadata": {},
     "output_type": "execute_result"
    }
   ],
   "source": [
    "article = _get_article_summary(sentences, sentence_weight, threshold)\n",
    "def _run_article_summary(article):\n",
    "    \n",
    "    #creating a dictionary for the word frequency table\n",
    "    frequency_table = _create_dictionary_table(article)\n",
    "\n",
    "    #tokenizing the sentences\n",
    "    sentences = sent_tokenize(article)\n",
    "\n",
    "    #algorithm for scoring a sentence by its words\n",
    "    sentence_scores = _calculate_sentence_scores(sentences, frequency_table)\n",
    "\n",
    "    #getting the threshold\n",
    "    threshold = _calculate_average_score(sentence_scores)\n",
    "\n",
    "    #producing the summary\n",
    "    article_summary = _get_article_summary(sentences, sentence_scores, 1.5 * threshold)\n",
    "\n",
    "    return article_summary\n",
    "_run_article_summary(article)\n"
   ]
  },
  {
   "cell_type": "code",
   "execution_count": 102,
   "metadata": {},
   "outputs": [
    {
     "name": "stdout",
     "output_type": "stream",
     "text": [
      " It is distinct from the century known as the 1900s which began on January 1, 1900 and ended on December 31, 1999. Terms like ideology, world war, genocide, and nuclear war entered common usage. Humans explored space for the first time, taking their first footsteps on the Moon. However, these same wars resulted in the destruction of the imperial system. The victorious Bolsheviks then established the Soviet Union, the world's first communist state. In total, World War II left some 60 million people dead. During the century, the social taboo of sexism fell. Communications and information technology, transportation technology, and medical advances had radically altered daily lives. Since the US was in a dominant position, a major part of the process was Americanization. Terrorism, dictatorship, and the spread of nuclear weapons were pressing global issues. Millions were infected with HIV, the virus which causes AIDS. This includes deaths caused by wars, genocide, politicide and mass murders. Later in the 20th century, the development of computers led to the establishment of a theory of computation.\n"
     ]
    }
   ],
   "source": [
    "\n",
    "if __name__ == '__main__':\n",
    "    summary_results = _run_article_summary(article_content)\n",
    "    print(summary_results)"
   ]
  },
  {
   "cell_type": "code",
   "execution_count": null,
   "metadata": {},
   "outputs": [],
   "source": []
  }
 ],
 "metadata": {
  "kernelspec": {
   "display_name": "Python 3",
   "language": "python",
   "name": "python3"
  },
  "language_info": {
   "codemirror_mode": {
    "name": "ipython",
    "version": 3
   },
   "file_extension": ".py",
   "mimetype": "text/x-python",
   "name": "python",
   "nbconvert_exporter": "python",
   "pygments_lexer": "ipython3",
   "version": "3.6.5"
  }
 },
 "nbformat": 4,
 "nbformat_minor": 2
}
